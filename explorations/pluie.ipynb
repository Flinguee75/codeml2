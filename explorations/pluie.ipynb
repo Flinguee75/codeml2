{
 "cells": [
  {
   "cell_type": "code",
   "execution_count": 1,
   "id": "b5c60582",
   "metadata": {},
   "outputs": [],
   "source": [
    "import pandas as pd\n",
    "import geopandas as gpd\n",
    "from shapely.geometry import Point\n",
    "from pathlib import Path\n",
    "\n"
   ]
  },
  {
   "cell_type": "markdown",
   "id": "cc3f0b09",
   "metadata": {},
   "source": [
    "#  1. FUSION DES FICHIERS DE PLUIE 2019–2023 \n",
    "\n"
   ]
  },
  {
   "cell_type": "code",
   "execution_count": 2,
   "id": "1dccdf0c",
   "metadata": {},
   "outputs": [
    {
     "name": "stdout",
     "output_type": "stream",
     "text": [
      "1137328 enregistrements chargés depuis 2 fichiers\n"
     ]
    },
    {
     "name": "stderr",
     "output_type": "stream",
     "text": [
      "/var/folders/th/9vpk5c6j1j1gdc2dszpnc47r0000gn/T/ipykernel_45423/1275232727.py:10: DtypeWarning: Columns (2,3) have mixed types. Specify dtype option on import or set low_memory=False.\n",
      "  df = pd.read_csv(file, names=[\"NO_SICOS\", \"DATE\", \"IMPULSION\", \"STATUT\"], header=None)\n",
      "/var/folders/th/9vpk5c6j1j1gdc2dszpnc47r0000gn/T/ipykernel_45423/1275232727.py:10: DtypeWarning: Columns (2,3) have mixed types. Specify dtype option on import or set low_memory=False.\n",
      "  df = pd.read_csv(file, names=[\"NO_SICOS\", \"DATE\", \"IMPULSION\", \"STATUT\"], header=None)\n"
     ]
    }
   ],
   "source": [
    "# dossier contenant tes CSV (ex: 2019.csv, 2020.csv, etc.)\n",
    "data_path = Path(\"../data/donnees_pluies\")\n",
    "\n",
    "# liste automatiquement tous les fichiers .csv du dossier\n",
    "csv_files = list(data_path.glob(\"*.csv\"))\n",
    "\n",
    "# lecture et concaténation\n",
    "frames = []\n",
    "for file in csv_files:\n",
    "    df = pd.read_csv(file, names=[\"NO_SICOS\", \"DATE\", \"IMPULSION\", \"STATUT\"], header=None)\n",
    "    frames.append(df)\n",
    "pluie = pd.concat(frames, ignore_index=True)\n",
    "\n",
    "print(f\"{len(pluie)} enregistrements chargés depuis {len(csv_files)} fichiers\")\n"
   ]
  },
  {
   "cell_type": "markdown",
   "id": "8af754d5",
   "metadata": {},
   "source": [
    "# 2. NETTOYAGE ET AGRÉGATION JOURNALIÈRE\n",
    "\n"
   ]
  },
  {
   "cell_type": "code",
   "execution_count": 3,
   "id": "3f033d1a",
   "metadata": {},
   "outputs": [
    {
     "name": "stderr",
     "output_type": "stream",
     "text": [
      "/var/folders/th/9vpk5c6j1j1gdc2dszpnc47r0000gn/T/ipykernel_45423/2264724205.py:1: UserWarning: Could not infer format, so each element will be parsed individually, falling back to `dateutil`. To ensure parsing is consistent and as-expected, please specify a format.\n",
      "  pluie[\"DATE\"] = pd.to_datetime(pluie[\"DATE\"], errors=\"coerce\")\n"
     ]
    }
   ],
   "source": [
    "pluie[\"DATE\"] = pd.to_datetime(pluie[\"DATE\"], errors=\"coerce\")\n",
    "pluie = pluie[pluie[\"STATUT\"] == 0]             # capteurs normaux\n",
    "pluie[\"jour\"] = pluie[\"DATE\"].dt.date\n",
    "pluie[\"annee\"] = pd.to_datetime(pluie[\"jour\"]).dt.year\n",
    "pluie[\"pluie_mm\"] = pluie[\"IMPULSION\"] * 0.25   # conversion impulsions -> mm\n",
    "\n",
    "# Somme journalière par station\n",
    "jour = (\n",
    "    pluie.groupby([\"NO_SICOS\", \"jour\", \"annee\"], as_index=False)\n",
    "         .agg(pluie_mm=(\"pluie_mm\", \"sum\"))\n",
    ")\n"
   ]
  },
  {
   "cell_type": "markdown",
   "id": "1a500956",
   "metadata": {},
   "source": [
    "#  3. CALCUL DES INDICES PAR STATION / ANNÉE \n"
   ]
  },
  {
   "cell_type": "code",
   "execution_count": 4,
   "id": "efa058aa",
   "metadata": {},
   "outputs": [
    {
     "name": "stderr",
     "output_type": "stream",
     "text": [
      "/var/folders/th/9vpk5c6j1j1gdc2dszpnc47r0000gn/T/ipykernel_45423/1493427187.py:25: FutureWarning: DataFrameGroupBy.apply operated on the grouping columns. This behavior is deprecated, and in a future version of pandas the grouping columns will be excluded from the operation. Either pass `include_groups=False` to exclude the groupings or explicitly select the grouping columns after groupby to silence this warning.\n",
      "  .apply(compute_indices)\n"
     ]
    }
   ],
   "source": [
    "def compute_indices(group):\n",
    "    g = group.sort_values(\"jour\").reset_index(drop=True)\n",
    "    rx1 = g[\"pluie_mm\"].max()\n",
    "    rx5 = g[\"pluie_mm\"].rolling(5).sum().max()\n",
    "    r20 = (g[\"pluie_mm\"] >= 20).sum()\n",
    "    dry = 0\n",
    "    cdd = 0\n",
    "    for val in g[\"pluie_mm\"]:\n",
    "        if val < 1:\n",
    "            dry += 1\n",
    "            cdd = max(cdd, dry)\n",
    "        else:\n",
    "            dry = 0\n",
    "    tot = g[\"pluie_mm\"].sum()\n",
    "    return pd.Series({\n",
    "        \"Rx1day_mm\": rx1,\n",
    "        \"Rx5day_mm\": rx5,\n",
    "        \"R20mm_jour\": r20,\n",
    "        \"CDD_jour\": cdd,\n",
    "        \"precip_totale_annuelle\": tot\n",
    "    })\n",
    "\n",
    "indices = (\n",
    "    jour.groupby([\"NO_SICOS\", \"annee\"])\n",
    "        .apply(compute_indices)\n",
    "        .reset_index()\n",
    ")"
   ]
  },
  {
   "cell_type": "markdown",
   "id": "13cf288a",
   "metadata": {},
   "source": [
    "# 4. AJOUT DES COORDONNÉES DES STATIONS\n"
   ]
  },
  {
   "cell_type": "code",
   "execution_count": 5,
   "id": "b904c516",
   "metadata": {},
   "outputs": [],
   "source": [
    "loc = pd.read_csv(\"../data/Pluviomètres_localisation.csv\")  # contient NO_SICOS, LAT, LON ou MTM8\n",
    "indices = indices.merge(loc, on=\"NO_SICOS\", how=\"left\")\n"
   ]
  },
  {
   "cell_type": "markdown",
   "id": "c7e94aea",
   "metadata": {},
   "source": [
    "# 5. CONVERSION EN COUCHE GEO \n"
   ]
  },
  {
   "cell_type": "code",
   "execution_count": 6,
   "id": "c6a12835",
   "metadata": {},
   "outputs": [],
   "source": [
    "indices[\"geometry\"] = [Point(xy) for xy in zip(indices[\"LONGITUDE\"], indices[\"LATITUDE\"])]\n",
    "gdf = gpd.GeoDataFrame(indices, geometry=\"geometry\", crs=\"EPSG:4326\")"
   ]
  },
  {
   "cell_type": "markdown",
   "id": "27246b5a",
   "metadata": {},
   "source": [
    "# 6. EXPORT \n"
   ]
  },
  {
   "cell_type": "code",
   "execution_count": 7,
   "id": "d518d021",
   "metadata": {},
   "outputs": [
    {
     "name": "stdout",
     "output_type": "stream",
     "text": [
      "✅ Fichier 'indices_pluviometriques_2019_2023.gpkg' créé avec succès.\n"
     ]
    }
   ],
   "source": [
    "gdf.to_file(\"../outputs/indices_pluviometriques_2019_2023.gpkg\", driver=\"GPKG\")\n",
    "\n",
    "print(\"✅ Fichier 'indices_pluviometriques_2019_2023.gpkg' créé avec succès.\")\n"
   ]
  },
  {
   "cell_type": "markdown",
   "id": "68c39a1a",
   "metadata": {},
   "source": [
    "# 7. Visualisation"
   ]
  },
  {
   "cell_type": "code",
   "execution_count": 14,
   "id": "0056757f",
   "metadata": {},
   "outputs": [
    {
     "name": "stdout",
     "output_type": "stream",
     "text": [
      "Aperçu des indices pluviométriques :\n",
      "   NO_SICOS  annee  Rx1day_mm  Rx5day_mm  R20mm_jour  CDD_jour  \\\n",
      "0  OBFT1011   2024      25.00      31.50         1.0       2.0   \n",
      "1  OBFT1021   2024      27.00      34.50         1.0       1.0   \n",
      "2  OBFT1031   2024      26.25      40.50         1.0       1.0   \n",
      "3  OBFT1041   2024      31.75      42.00         1.0       0.0   \n",
      "4  OBFT1051   2024      18.50      44.25         0.0       1.0   \n",
      "5  OBFT1061   2024      20.50      43.50         1.0       0.0   \n",
      "6  OBFT1081   2024      25.00      50.25         1.0       0.0   \n",
      "7  OBFT1091   2024      21.50      37.75         1.0       0.0   \n",
      "8  OBFT1101   2024      20.50      36.00         1.0       0.0   \n",
      "9  OBFT1111   2024      25.25      43.25         1.0       0.0   \n",
      "\n",
      "   precip_totale_annuelle        MTM8_X        MTM8_Y   LATITUDE  LONGITUDE  \\\n",
      "0                   38.50  263682.25305  5.028076e+06  45.391421 -74.025129   \n",
      "1                   41.00  269635.27279  5.028869e+06  45.398880 -73.949160   \n",
      "2                   46.00  276139.71261  5.031801e+06  45.425561 -73.866251   \n",
      "3                   47.25  276134.50484  5.036981e+06  45.472167 -73.866619   \n",
      "4                   45.50  286172.52441  5.027089e+06  45.383494 -73.737865   \n",
      "5                   49.00  288177.91988  5.040728e+06  45.506272 -73.712717   \n",
      "6                   54.75  292223.95951  5.039477e+06  45.495105 -73.660907   \n",
      "7                   42.00  296706.95325  5.042938e+06  45.526315 -73.603606   \n",
      "8                   42.00  295391.34611  5.047647e+06  45.568672 -73.620538   \n",
      "9                   51.25  294129.39218  5.050471e+06  45.594062 -73.636768   \n",
      "\n",
      "                     geometry  \n",
      "0  POINT (-74.02513 45.39142)  \n",
      "1  POINT (-73.94916 45.39888)  \n",
      "2  POINT (-73.86625 45.42556)  \n",
      "3  POINT (-73.86662 45.47217)  \n",
      "4  POINT (-73.73786 45.38349)  \n",
      "5  POINT (-73.71272 45.50627)  \n",
      "6   POINT (-73.66091 45.4951)  \n",
      "7  POINT (-73.60361 45.52632)  \n",
      "8  POINT (-73.62054 45.56867)  \n",
      "9  POINT (-73.63677 45.59406)  \n",
      "\n",
      "Structure des données :\n",
      "<class 'geopandas.geodataframe.GeoDataFrame'>\n",
      "RangeIndex: 319 entries, 0 to 318\n",
      "Data columns (total 12 columns):\n",
      " #   Column                  Non-Null Count  Dtype   \n",
      "---  ------                  --------------  -----   \n",
      " 0   NO_SICOS                319 non-null    object  \n",
      " 1   annee                   319 non-null    int32   \n",
      " 2   Rx1day_mm               319 non-null    float64 \n",
      " 3   Rx5day_mm               317 non-null    float64 \n",
      " 4   R20mm_jour              319 non-null    float64 \n",
      " 5   CDD_jour                319 non-null    float64 \n",
      " 6   precip_totale_annuelle  319 non-null    float64 \n",
      " 7   MTM8_X                  196 non-null    float64 \n",
      " 8   MTM8_Y                  196 non-null    float64 \n",
      " 9   LATITUDE                196 non-null    float64 \n",
      " 10  LONGITUDE               196 non-null    float64 \n",
      " 11  geometry                319 non-null    geometry\n",
      "dtypes: float64(9), geometry(1), int32(1), object(1)\n",
      "memory usage: 28.8+ KB\n",
      "None\n"
     ]
    }
   ],
   "source": [
    "\n",
    "\n",
    "import geopandas as gpd\n",
    "import matplotlib.pyplot as plt\n",
    "\n",
    "# Lecture du fichier GeoPackage final\n",
    "gdf = gpd.read_file(\"../outputs/indices_pluviometriques_2019_2023.gpkg\")\n",
    "\n",
    "# Aperçu des 10 premières lignes\n",
    "print(\"Aperçu des indices pluviométriques :\")\n",
    "print(gdf.head(10))\n",
    "\n",
    "# Info sur les colonnes et les types\n",
    "print(\"\\nStructure des données :\")\n",
    "print(gdf.info())\n",
    "\n"
   ]
  },
  {
   "cell_type": "markdown",
   "id": "3fcc7f0e",
   "metadata": {},
   "source": [
    "# 1. Nettoyage"
   ]
  },
  {
   "cell_type": "code",
   "execution_count": 15,
   "id": "b13c5c7d",
   "metadata": {},
   "outputs": [],
   "source": [
    "import geopandas as gpd\n",
    "from sklearn.preprocessing import MinMaxScaler\n"
   ]
  },
  {
   "cell_type": "code",
   "execution_count": 18,
   "id": "c377fe22",
   "metadata": {},
   "outputs": [
    {
     "data": {
      "image/png": "[encoded data removed]",
      "text/plain": [
       "<Figure size 1000x800 with 2 Axes>"
      ]
     },
     "metadata": {},
     "output_type": "display_data"
    },
    {
     "name": "stdout",
     "output_type": "stream",
     "text": [
      "✅ Fichier nettoyé enregistré : indices_pluviometriques_nettoye.gpkg\n"
     ]
    }
   ],
   "source": [
    "\n",
    "# --- 1. Charger le fichier GPKG ---\n",
    "gdf = gpd.read_file(\"../outputs/indices_pluviometriques_2019_2023.gpkg\")\n",
    "\n",
    "# --- 2. Nettoyage de base ---\n",
    "gdf = gdf.drop_duplicates()\n",
    "gdf = gdf.dropna(subset=[\"precip_totale_annuelle\", \"Rx1day_mm\", \"Rx5day_mm\", \"R20mm_jour\"])\n",
    "\n",
    "# --- 3. Harmoniser les noms de colonnes ---\n",
    "gdf = gdf.rename(columns={\n",
    "    \"Rx1day_mm\": \"max_1j\",\n",
    "    \"Rx5day_mm\": \"max_5j\",\n",
    "    \"R20mm_jour\": \"jours_>20mm\",\n",
    "    \"precip_totale_annuelle\": \"precip_annuelle\"\n",
    "})\n",
    "\n",
    "# --- 4. Normalisation des indices ---\n",
    "cols = [\"precip_annuelle\", \"max_1j\", \"max_5j\", \"jours_>20mm\"]\n",
    "scaler = MinMaxScaler()\n",
    "gdf[cols] = scaler.fit_transform(gdf[cols])\n",
    "\n",
    "# --- 5. Calcul du score global d’exposition pluviale ---\n",
    "gdf[\"precip_intense\"] = (\n",
    "    0.4 * gdf[\"max_1j\"] +\n",
    "    0.3 * gdf[\"max_5j\"] +\n",
    "    0.2 * gdf[\"jours_>20mm\"] +\n",
    "    0.1 * gdf[\"precip_annuelle\"]\n",
    ")\n",
    "\n",
    "#visualisation rapide\n",
    "fig, ax = plt.subplots(figsize=(10, 8))\n",
    "gdf.plot(column=\"precip_intense\", cmap=\"RdYlGn_r\", legend=True, ax=ax)\n",
    "ax.set_title(\"Indices pluviométriques - Montréal (2019-2023)\")\n",
    "plt.show()\n",
    "\n",
    "# --- 6. Sauvegarde du résultat ---\n",
    "gdf.to_file(\"../outputs/indices_pluviometriques_nettoye.gpkg\", driver=\"GPKG\")\n",
    "\n",
    "print(\"✅ Fichier nettoyé enregistré : indices_pluviometriques_nettoye.gpkg\")"
   ]
  },
  {
   "cell_type": "markdown",
   "id": "fa4c9457",
   "metadata": {},
   "source": [
    "### Observation — Indices pluviométriques à Montréal (2019-2023)\n",
    "\n",
    "La carte présente la répartition spatiale des indices pluviométriques moyens sur l’île de Montréal entre 2019 et 2023.  \n",
    "On observe une **prépondérance de valeurs faibles à modérées** (points verts), indiquant une pluviométrie généralement stable.  \n",
    "Quelques **zones ponctuelles de forte intensité** (points jaunâtres à rougeâtres) apparaissent, principalement vers le **centre-est de la ville** (autour de -73.6° de longitude).  \n",
    "Ces zones concentrent les épisodes pluvieux les plus marqués, susceptibles d’amplifier les risques locaux de ruissellement ou d’inondation urbaine.\n"
   ]
  }
 ],
 "metadata": {
  "kernelspec": {
   "display_name": "mlcomp",
   "language": "python",
   "name": "python3"
  },
  "language_info": {
   "codemirror_mode": {
    "name": "ipython",
    "version": 3
   },
   "file_extension": ".py",
   "mimetype": "text/x-python",
   "name": "python",
   "nbconvert_exporter": "python",
   "pygments_lexer": "ipython3",
   "version": "3.10.18"
  }
 },
 "nbformat": 4,
 "nbformat_minor": 5
}
