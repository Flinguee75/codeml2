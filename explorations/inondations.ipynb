{
 "cells": [
  {
   "cell_type": "code",
   "execution_count": 42,
   "id": "40f25311",
   "metadata": {},
   "outputs": [],
   "source": [
    "import geopandas as gpd\n",
    "import fiona\n",
    "import pandas as pd\n",
    "from sklearn.preprocessing import MinMaxScaler\n",
    "\n"
   ]
  },
  {
   "cell_type": "markdown",
   "id": "049153bb",
   "metadata": {},
   "source": [
    "# --- 1. Chargement et nettoyage du fichier BDZI ---\n"
   ]
  },
  {
   "cell_type": "code",
   "execution_count": 43,
   "id": "cbe5a911",
   "metadata": {},
   "outputs": [],
   "source": [
    "import fiona\n",
    "\n"
   ]
  },
  {
   "cell_type": "code",
   "execution_count": 51,
   "id": "09a05206",
   "metadata": {},
   "outputs": [
    {
     "name": "stdout",
     "output_type": "stream",
     "text": [
      "954\n",
      "Index(['Indicatif', 'Description', 'Id_uni_Zoi', 'No_rapport', 'Nm_rapport',\n",
      "       'Date_rapport', 'Etat', 'Nm_prog', 'Nm_part', 'Form_orig', 'Version',\n",
      "       'Proprio', 'date_debut', 'date_fin', 'Shape_Length', 'Shape_Area',\n",
      "       'geometry'],\n",
      "      dtype='object')\n"
     ]
    }
   ],
   "source": [
    "\n",
    "path = \"../data/BDZI.gdb\"\n",
    "bdzi = gpd.read_file(path, layer=\"ZOI_s\", engine=\"fiona\")\n",
    "\n",
    "print(len(bdzi))\n",
    "print(bdzi.columns)\n",
    "\n",
    "montreal = gpd.read_file(\"../data/Limites-administratives-agglomération/limites-administratives-agglomeration-nad83.shp\", engine=\"fiona\")  # limite administrative de Montréal\n",
    "\n"
   ]
  },
  {
   "cell_type": "code",
   "execution_count": 52,
   "id": "0a1baaa1",
   "metadata": {},
   "outputs": [
    {
     "name": "stdout",
     "output_type": "stream",
     "text": [
      "Zones actives : 954\n"
     ]
    },
    {
     "data": {
      "text/html": [
       "<div>\n",
       "<style scoped>\n",
       "    .dataframe tbody tr th:only-of-type {\n",
       "        vertical-align: middle;\n",
       "    }\n",
       "\n",
       "    .dataframe tbody tr th {\n",
       "        vertical-align: top;\n",
       "    }\n",
       "\n",
       "    .dataframe thead th {\n",
       "        text-align: right;\n",
       "    }\n",
       "</style>\n",
       "<table border=\"1\" class=\"dataframe\">\n",
       "  <thead>\n",
       "    <tr style=\"text-align: right;\">\n",
       "      <th></th>\n",
       "      <th>id_uni_zoi</th>\n",
       "      <th>description</th>\n",
       "      <th>etat</th>\n",
       "      <th>geometry</th>\n",
       "    </tr>\n",
       "  </thead>\n",
       "  <tbody>\n",
       "    <tr>\n",
       "      <th>0</th>\n",
       "      <td>010200005</td>\n",
       "      <td>zone de grand courant</td>\n",
       "      <td>actif</td>\n",
       "      <td>MULTIPOLYGON (((-8118180.24 5786080.856, -8118...</td>\n",
       "    </tr>\n",
       "    <tr>\n",
       "      <th>1</th>\n",
       "      <td>010200006</td>\n",
       "      <td>zone de faible courant</td>\n",
       "      <td>actif</td>\n",
       "      <td>MULTIPOLYGON (((-8118143.999 5786080.998, -811...</td>\n",
       "    </tr>\n",
       "    <tr>\n",
       "      <th>2</th>\n",
       "      <td>010200007</td>\n",
       "      <td>zone de faible courant - pont</td>\n",
       "      <td>actif</td>\n",
       "      <td>MULTIPOLYGON (((-8114700.956 5776455.69, -8114...</td>\n",
       "    </tr>\n",
       "    <tr>\n",
       "      <th>3</th>\n",
       "      <td>010200008</td>\n",
       "      <td>zone de grand courant - pont</td>\n",
       "      <td>actif</td>\n",
       "      <td>MULTIPOLYGON (((-8114702.551 5776459.435, -811...</td>\n",
       "    </tr>\n",
       "    <tr>\n",
       "      <th>4</th>\n",
       "      <td>010200009</td>\n",
       "      <td>zone de faible courant</td>\n",
       "      <td>actif</td>\n",
       "      <td>MULTIPOLYGON (((-8142750.624 5752236.742, -814...</td>\n",
       "    </tr>\n",
       "  </tbody>\n",
       "</table>\n",
       "</div>"
      ],
      "text/plain": [
       "  id_uni_zoi                    description   etat  \\\n",
       "0  010200005          zone de grand courant  actif   \n",
       "1  010200006         zone de faible courant  actif   \n",
       "2  010200007  zone de faible courant - pont  actif   \n",
       "3  010200008   zone de grand courant - pont  actif   \n",
       "4  010200009         zone de faible courant  actif   \n",
       "\n",
       "                                            geometry  \n",
       "0  MULTIPOLYGON (((-8118180.24 5786080.856, -8118...  \n",
       "1  MULTIPOLYGON (((-8118143.999 5786080.998, -811...  \n",
       "2  MULTIPOLYGON (((-8114700.956 5776455.69, -8114...  \n",
       "3  MULTIPOLYGON (((-8114702.551 5776459.435, -811...  \n",
       "4  MULTIPOLYGON (((-8142750.624 5752236.742, -814...  "
      ]
     },
     "execution_count": 52,
     "metadata": {},
     "output_type": "execute_result"
    }
   ],
   "source": [
    "\n",
    "# --- 2. Nettoyage de base ---\n",
    "bdzi.columns = bdzi.columns.str.lower().str.strip()\n",
    "cols = [c for c in [\"id_uni_zoi\", \"description\", \"etat\", \"geometry\"] if c in bdzi.columns]\n",
    "bdzi = bdzi[cols].copy()\n",
    "\n",
    "# Standardisation des textes\n",
    "bdzi[\"description\"] = bdzi[\"description\"].astype(str).str.lower().str.strip()\n",
    "bdzi[\"etat\"] = bdzi[\"etat\"].astype(str).str.lower().str.strip()\n",
    "\n",
    "# --- 3. Filtrer uniquement les zones actives ---\n",
    "bdzi = bdzi[bdzi[\"etat\"] == \"actif\"].reset_index(drop=True)\n",
    "\n",
    "print(\"Zones actives :\", len(bdzi))\n",
    "bdzi.head()\n",
    "\n"
   ]
  },
  {
   "cell_type": "code",
   "execution_count": 57,
   "id": "5e1f6383",
   "metadata": {},
   "outputs": [
    {
     "name": "stdout",
     "output_type": "stream",
     "text": [
      "Zones d’inondation dans Montréal : 14\n"
     ]
    }
   ],
   "source": [
    "\n",
    "# --- 4. Harmoniser les projections ---\n",
    "montreal = montreal.to_crs(bdzi.crs)\n",
    "\n",
    "# --- 5. Garder uniquement les zones dans Montréal ---\n",
    "bdzi_mtl = gpd.overlay(bdzi, montreal, how=\"intersection\")\n",
    "\n",
    "print(\"Zones d’inondation dans Montréal :\", len(bdzi_mtl))\n",
    "\n",
    "\n",
    "\n"
   ]
  },
  {
   "cell_type": "code",
   "execution_count": 79,
   "id": "60b6ec83",
   "metadata": {},
   "outputs": [
    {
     "data": {
      "text/html": [
       "<div>\n",
       "<style scoped>\n",
       "    .dataframe tbody tr th:only-of-type {\n",
       "        vertical-align: middle;\n",
       "    }\n",
       "\n",
       "    .dataframe tbody tr th {\n",
       "        vertical-align: top;\n",
       "    }\n",
       "\n",
       "    .dataframe thead th {\n",
       "        text-align: right;\n",
       "    }\n",
       "</style>\n",
       "<table border=\"1\" class=\"dataframe\">\n",
       "  <thead>\n",
       "    <tr style=\"text-align: right;\">\n",
       "      <th></th>\n",
       "      <th>id_uni_zoi</th>\n",
       "      <th>description</th>\n",
       "      <th>etat</th>\n",
       "      <th>geometry</th>\n",
       "    </tr>\n",
       "  </thead>\n",
       "  <tbody>\n",
       "    <tr>\n",
       "      <th>0</th>\n",
       "      <td>010100713</td>\n",
       "      <td>zone de grand courant</td>\n",
       "      <td>actif</td>\n",
       "      <td>MULTIPOLYGON (((-8232152.597 5691947.467, -823...</td>\n",
       "    </tr>\n",
       "    <tr>\n",
       "      <th>1</th>\n",
       "      <td>010100713</td>\n",
       "      <td>zone de grand courant</td>\n",
       "      <td>actif</td>\n",
       "      <td>MULTIPOLYGON (((-8228125.601 5691902.524, -822...</td>\n",
       "    </tr>\n",
       "    <tr>\n",
       "      <th>2</th>\n",
       "      <td>010100713</td>\n",
       "      <td>zone de grand courant</td>\n",
       "      <td>actif</td>\n",
       "      <td>MULTIPOLYGON (((-8230952.386 5697109.392, -823...</td>\n",
       "    </tr>\n",
       "    <tr>\n",
       "      <th>3</th>\n",
       "      <td>010100713</td>\n",
       "      <td>zone de grand courant</td>\n",
       "      <td>actif</td>\n",
       "      <td>MULTIPOLYGON (((-8230795.006 5694501.603, -823...</td>\n",
       "    </tr>\n",
       "    <tr>\n",
       "      <th>4</th>\n",
       "      <td>010100711</td>\n",
       "      <td>zone de faible courant</td>\n",
       "      <td>actif</td>\n",
       "      <td>MULTIPOLYGON (((-8234797.195 5688009.401, -823...</td>\n",
       "    </tr>\n",
       "  </tbody>\n",
       "</table>\n",
       "</div>"
      ],
      "text/plain": [
       "  id_uni_zoi             description   etat  \\\n",
       "0  010100713   zone de grand courant  actif   \n",
       "1  010100713   zone de grand courant  actif   \n",
       "2  010100713   zone de grand courant  actif   \n",
       "3  010100713   zone de grand courant  actif   \n",
       "4  010100711  zone de faible courant  actif   \n",
       "\n",
       "                                            geometry  \n",
       "0  MULTIPOLYGON (((-8232152.597 5691947.467, -823...  \n",
       "1  MULTIPOLYGON (((-8228125.601 5691902.524, -822...  \n",
       "2  MULTIPOLYGON (((-8230952.386 5697109.392, -823...  \n",
       "3  MULTIPOLYGON (((-8230795.006 5694501.603, -823...  \n",
       "4  MULTIPOLYGON (((-8234797.195 5688009.401, -823...  "
      ]
     },
     "execution_count": 79,
     "metadata": {},
     "output_type": "execute_result"
    }
   ],
   "source": [
    "cols = [c for c in [\"id_uni_zoi\", \"description\", \"etat\", \"geometry\"] if c in bdzi_mtl.columns]\n",
    "bdzi_mtl = bdzi_mtl[cols].copy()\n",
    "\n",
    "bdzi_mtl.head()\n"
   ]
  },
  {
   "cell_type": "code",
   "execution_count": 80,
   "id": "8e98d512",
   "metadata": {},
   "outputs": [],
   "source": [
    "import re\n"
   ]
  },
  {
   "cell_type": "code",
   "execution_count": 81,
   "id": "60adeb05",
   "metadata": {},
   "outputs": [
    {
     "data": {
      "text/html": [
       "<div>\n",
       "<style scoped>\n",
       "    .dataframe tbody tr th:only-of-type {\n",
       "        vertical-align: middle;\n",
       "    }\n",
       "\n",
       "    .dataframe tbody tr th {\n",
       "        vertical-align: top;\n",
       "    }\n",
       "\n",
       "    .dataframe thead th {\n",
       "        text-align: right;\n",
       "    }\n",
       "</style>\n",
       "<table border=\"1\" class=\"dataframe\">\n",
       "  <thead>\n",
       "    <tr style=\"text-align: right;\">\n",
       "      <th></th>\n",
       "      <th>id_uni_zoi</th>\n",
       "      <th>description</th>\n",
       "      <th>etat</th>\n",
       "      <th>geometry</th>\n",
       "      <th>type_inondation</th>\n",
       "      <th>periode_retour</th>\n",
       "      <th>pont</th>\n",
       "      <th>barrage</th>\n",
       "      <th>indice_inondation</th>\n",
       "    </tr>\n",
       "  </thead>\n",
       "  <tbody>\n",
       "    <tr>\n",
       "      <th>0</th>\n",
       "      <td>010100713</td>\n",
       "      <td>zone de grand courant</td>\n",
       "      <td>actif</td>\n",
       "      <td>MULTIPOLYGON (((-8232152.597 5691947.467, -823...</td>\n",
       "      <td>grand courant</td>\n",
       "      <td>NaN</td>\n",
       "      <td>0</td>\n",
       "      <td>0</td>\n",
       "      <td>0.91</td>\n",
       "    </tr>\n",
       "    <tr>\n",
       "      <th>1</th>\n",
       "      <td>010100713</td>\n",
       "      <td>zone de grand courant</td>\n",
       "      <td>actif</td>\n",
       "      <td>MULTIPOLYGON (((-8228125.601 5691902.524, -822...</td>\n",
       "      <td>grand courant</td>\n",
       "      <td>NaN</td>\n",
       "      <td>0</td>\n",
       "      <td>0</td>\n",
       "      <td>0.91</td>\n",
       "    </tr>\n",
       "    <tr>\n",
       "      <th>2</th>\n",
       "      <td>010100713</td>\n",
       "      <td>zone de grand courant</td>\n",
       "      <td>actif</td>\n",
       "      <td>MULTIPOLYGON (((-8230952.386 5697109.392, -823...</td>\n",
       "      <td>grand courant</td>\n",
       "      <td>NaN</td>\n",
       "      <td>0</td>\n",
       "      <td>0</td>\n",
       "      <td>0.91</td>\n",
       "    </tr>\n",
       "    <tr>\n",
       "      <th>3</th>\n",
       "      <td>010100713</td>\n",
       "      <td>zone de grand courant</td>\n",
       "      <td>actif</td>\n",
       "      <td>MULTIPOLYGON (((-8230795.006 5694501.603, -823...</td>\n",
       "      <td>grand courant</td>\n",
       "      <td>NaN</td>\n",
       "      <td>0</td>\n",
       "      <td>0</td>\n",
       "      <td>0.91</td>\n",
       "    </tr>\n",
       "    <tr>\n",
       "      <th>4</th>\n",
       "      <td>010100711</td>\n",
       "      <td>zone de faible courant</td>\n",
       "      <td>actif</td>\n",
       "      <td>MULTIPOLYGON (((-8234797.195 5688009.401, -823...</td>\n",
       "      <td>faible courant</td>\n",
       "      <td>NaN</td>\n",
       "      <td>0</td>\n",
       "      <td>0</td>\n",
       "      <td>0.63</td>\n",
       "    </tr>\n",
       "  </tbody>\n",
       "</table>\n",
       "</div>"
      ],
      "text/plain": [
       "  id_uni_zoi             description   etat  \\\n",
       "0  010100713   zone de grand courant  actif   \n",
       "1  010100713   zone de grand courant  actif   \n",
       "2  010100713   zone de grand courant  actif   \n",
       "3  010100713   zone de grand courant  actif   \n",
       "4  010100711  zone de faible courant  actif   \n",
       "\n",
       "                                            geometry type_inondation  \\\n",
       "0  MULTIPOLYGON (((-8232152.597 5691947.467, -823...   grand courant   \n",
       "1  MULTIPOLYGON (((-8228125.601 5691902.524, -822...   grand courant   \n",
       "2  MULTIPOLYGON (((-8230952.386 5697109.392, -823...   grand courant   \n",
       "3  MULTIPOLYGON (((-8230795.006 5694501.603, -823...   grand courant   \n",
       "4  MULTIPOLYGON (((-8234797.195 5688009.401, -823...  faible courant   \n",
       "\n",
       "   periode_retour  pont  barrage  indice_inondation  \n",
       "0             NaN     0        0               0.91  \n",
       "1             NaN     0        0               0.91  \n",
       "2             NaN     0        0               0.91  \n",
       "3             NaN     0        0               0.91  \n",
       "4             NaN     0        0               0.63  "
      ]
     },
     "execution_count": 81,
     "metadata": {},
     "output_type": "execute_result"
    }
   ],
   "source": [
    "\n",
    "# --- 4. Extraire les infos de la description ---\n",
    "def extraire_infos(desc):\n",
    "    \"\"\"\n",
    "    Analyse le texte pour extraire :\n",
    "    - type de courant (grand/faible)\n",
    "    - période de retour (0-2, 0-20, 0-100)\n",
    "    - mention de pont ou barrage\n",
    "    \"\"\"\n",
    "    type_courant = None\n",
    "    if \"grand courant\" in desc:\n",
    "        type_courant = \"grand courant\"\n",
    "    elif \"faible courant\" in desc:\n",
    "        type_courant = \"faible courant\"\n",
    "    elif \"crue\" in desc:\n",
    "        type_courant = \"crue\"\n",
    "    elif \"hautes eaux\" in desc:\n",
    "        type_courant = \"hautes eaux\"\n",
    "    else:\n",
    "        type_courant = \"autre\"\n",
    "\n",
    "    # Période de retour (ex: 0-20 ans, 0-100 ans)\n",
    "    match = re.search(r\"0-?(\\d+)\", desc)\n",
    "    retour = int(match.group(1)) if match else None\n",
    "\n",
    "    # Indique si c’est un pont ou barrage\n",
    "    pont = int(\"pont\" in desc)\n",
    "    barrage = int(\"barrage\" in desc)\n",
    "\n",
    "    return pd.Series([type_courant, retour, pont, barrage])\n",
    "\n",
    "bdzi_mtl[[\"type_inondation\", \"periode_retour\", \"pont\", \"barrage\"]] = bdzi_mtl[\"description\"].apply(extraire_infos)\n",
    "\n",
    "# --- 5. Attribuer un score d’intensité ---\n",
    "def calcul_score(row):\n",
    "    base = {\"grand courant\": 1.0, \"crue\": 0.8, \"faible courant\": 0.6,\n",
    "            \"hautes eaux\": 0.4, \"autre\": 0.3}[row[\"type_inondation\"]]\n",
    "\n",
    "    # Plus la période de retour est courte, plus le risque est fort\n",
    "    if pd.notna(row[\"periode_retour\"]):\n",
    "        if row[\"periode_retour\"] <= 2:\n",
    "            periode = 1.0\n",
    "        elif row[\"periode_retour\"] <= 20:\n",
    "            periode = 0.8\n",
    "        elif row[\"periode_retour\"] <= 100:\n",
    "            periode = 0.6\n",
    "        else:\n",
    "            periode = 0.5\n",
    "    else:\n",
    "        periode = 0.7\n",
    "\n",
    "    # Pont ou barrage = ajustement léger\n",
    "    bonus = 0.1 if row[\"pont\"] or row[\"barrage\"] else 0.0\n",
    "\n",
    "    return min(1.0, base * 0.7 + periode * 0.3 + bonus)\n",
    "\n",
    "bdzi_mtl[\"indice_inondation\"] = bdzi_mtl.apply(calcul_score, axis=1)\n",
    "\n",
    "bdzi_mtl.head()\n",
    "\n"
   ]
  },
  {
   "cell_type": "markdown",
   "id": "88716952",
   "metadata": {},
   "source": [
    "# Decoupage pour la ville de Montreal"
   ]
  },
  {
   "cell_type": "code",
   "execution_count": 82,
   "id": "ac3a76a1",
   "metadata": {},
   "outputs": [],
   "source": [
    "import matplotlib.pyplot as plt\n"
   ]
  },
  {
   "cell_type": "code",
   "execution_count": 84,
   "id": "b8f11068",
   "metadata": {},
   "outputs": [
    {
     "name": "stdout",
     "output_type": "stream",
     "text": [
      "CRS : EPSG:3857\n",
      "Nombre total : 14\n",
      "Nombre de géométries valides : 14\n",
      "Borne min/max : [-8237264.07052723  5682400.74726458 -8209532.28695515  5704555.606     ]\n"
     ]
    }
   ],
   "source": [
    "\n",
    "print(\"CRS :\", bdzi_mtl.crs)\n",
    "print(\"Nombre total :\", len(bdzi_mtl))\n",
    "print(\"Nombre de géométries valides :\", bdzi_mtl.geometry.notnull().sum())\n",
    "print(\"Borne min/max :\", bdzi_mtl.total_bounds)"
   ]
  },
  {
   "cell_type": "code",
   "execution_count": 85,
   "id": "ae5ffb04",
   "metadata": {},
   "outputs": [
    {
     "data": {
      "image/png": "[encoded data removed]",
      "text/plain": [
       "<Figure size 800x800 with 2 Axes>"
      ]
     },
     "metadata": {},
     "output_type": "display_data"
    }
   ],
   "source": [
    "bdzi_mtl = bdzi_mtl.to_crs(epsg=4326)  # reprojection en latitude/longitude\n",
    "\n",
    "ax = bdzi_mtl.plot(\n",
    "    column=\"indice_inondation\",\n",
    "    cmap=\"RdYlBu_r\",\n",
    "    legend=True,\n",
    "    figsize=(8, 8),\n",
    "    alpha=0.7,\n",
    "    edgecolor=\"black\"\n",
    ")\n",
    "ax.set_title(\"Zones inondables actives – Montréal (EPSG:4326)\")\n",
    "plt.show()"
   ]
  },
  {
   "cell_type": "markdown",
   "id": "c7b7e5ba",
   "metadata": {},
   "source": [
    "### Observation — Zones inondables actives (Montréal)\n",
    "\n",
    "La carte montre les zones classées comme inondables actives selon la base géospatiale.  \n",
    "On constate que **ces zones se situent majoritairement à la périphérie de l’île**, notamment à l’ouest et au sud-est, loin du centre urbain dense et des principaux regroupements de bâtiments étudiés.  \n",
    "Ainsi, **cette donnée n’est pas directement pertinente** pour notre analyse des bâtiments résidentiels et municipaux, puisque **elle ne recoupe pas les secteurs réellement urbanisés** ni les zones d’intérêt énergétique du projet.\n"
   ]
  },
  {
   "cell_type": "code",
   "execution_count": 86,
   "id": "17e8506f",
   "metadata": {},
   "outputs": [],
   "source": [
    "bdzi_mtl.to_file(\"../outputs/BDZI_ZOI_s_Montreal_nettoye_WGS84.gpkg\", driver=\"GPKG\")\n"
   ]
  },
  {
   "cell_type": "code",
   "execution_count": 87,
   "id": "6cdb9153",
   "metadata": {},
   "outputs": [
    {
     "data": {
      "text/plain": [
       "Index(['id_uni_zoi', 'description', 'etat', 'geometry', 'type_inondation',\n",
       "       'periode_retour', 'pont', 'barrage', 'indice_inondation'],\n",
       "      dtype='object')"
      ]
     },
     "execution_count": 87,
     "metadata": {},
     "output_type": "execute_result"
    }
   ],
   "source": [
    "bdzi_mtl.columns"
   ]
  }
 ],
 "metadata": {
  "kernelspec": {
   "display_name": "mlcomp",
   "language": "python",
   "name": "python3"
  },
  "language_info": {
   "codemirror_mode": {
    "name": "ipython",
    "version": 3
   },
   "file_extension": ".py",
   "mimetype": "text/x-python",
   "name": "python",
   "nbconvert_exporter": "python",
   "pygments_lexer": "ipython3",
   "version": "3.10.18"
  }
 },
 "nbformat": 4,
 "nbformat_minor": 5
}
