{
 "cells": [
  {
   "cell_type": "code",
   "execution_count": 1,
   "id": "e260847e",
   "metadata": {},
   "outputs": [],
   "source": [
    "import pandas as pd\n",
    "import geopandas as gpd\n",
    "from shapely.geometry import Point"
   ]
  },
  {
   "cell_type": "code",
   "execution_count": 2,
   "id": "56cf6446",
   "metadata": {},
   "outputs": [],
   "source": [
    "df=pd.read_csv(\"../data/electricite.csv\")"
   ]
  },
  {
   "cell_type": "code",
   "execution_count": 3,
   "id": "e11c1ce9",
   "metadata": {},
   "outputs": [],
   "source": [
    "# --- 1. Nettoyage de base ---\n",
    "df = df.drop_duplicates(subset=[\"id\", \"Adresse\"])\n",
    "df[\"Adresse\"] = df[\"Adresse\"].str.strip().str.title()\n",
    "\n",
    "# Conversion des valeurs numériques\n",
    "cols_num = [\n",
    "    \"Annee_construction\",\n",
    "    \"Superficie\",\n",
    "    \"GES\",\n",
    "    \"Electricite_GJ_moyenne_4_ans\",\n",
    "    \"Gaz_naturel_GJ_moyenne_4_ans\",\n",
    "    \"Mazout_GJ_moyenne_4_ans\",\n",
    "]\n",
    "df[cols_num] = df[cols_num].apply(pd.to_numeric, errors=\"coerce\")\n",
    "\n",
    "# --- 2. Gestion des valeurs manquantes ---\n",
    "df = df.dropna(subset=[\"Superficie\", \"GES\"])\n",
    "df[[\"Electricite_GJ_moyenne_4_ans\", \"Gaz_naturel_GJ_moyenne_4_ans\", \"Mazout_GJ_moyenne_4_ans\"]] = \\\n",
    "    df[[\"Electricite_GJ_moyenne_4_ans\", \"Gaz_naturel_GJ_moyenne_4_ans\", \"Mazout_GJ_moyenne_4_ans\"]].fillna(0)\n"
   ]
  },
  {
   "cell_type": "code",
   "execution_count": 4,
   "id": "db9921a1",
   "metadata": {},
   "outputs": [],
   "source": [
    "# --- 3. Feature engineering ---\n",
    "df[\"Conso_totale_GJ\"] = (\n",
    "    df[\"Electricite_GJ_moyenne_4_ans\"]\n",
    "    + df[\"Gaz_naturel_GJ_moyenne_4_ans\"]\n",
    "    + df[\"Mazout_GJ_moyenne_4_ans\"]\n",
    ")\n",
    "df[\"GES_m2\"] = df[\"GES\"] / df[\"Superficie\"]\n",
    "\n",
    "# --- 4. Géocodage optionnel si tu n’as pas encore de géométrie ---\n",
    "# Exemple simplifié (si tu as déjà des colonnes latitude/longitude)\n",
    "if {\"latitude\", \"longitude\"}.issubset(df.columns):\n",
    "    df[\"geometry\"] = df.apply(lambda row: Point(row[\"longitude\"], row[\"latitude\"]), axis=1)\n",
    "    gdf = gpd.GeoDataFrame(df, geometry=\"geometry\", crs=\"EPSG:4326\")\n",
    "else:\n",
    "    gdf = df  # reste un DataFrame pour le moment\n"
   ]
  },
  {
   "cell_type": "code",
   "execution_count": 5,
   "id": "86ac3ced",
   "metadata": {},
   "outputs": [],
   "source": [
    "# --- 5. Sauvegarde ---\n",
    "gdf.to_file(\"dataset_electricite_nettoye.gpkg\", driver=\"GPKG\") if isinstance(gdf, gpd.GeoDataFrame) else \\\n",
    "    gdf.to_csv(\"dataset_electricite_nettoye.csv\", index=False)"
   ]
  }
 ],
 "metadata": {
  "kernelspec": {
   "display_name": ".venv",
   "language": "python",
   "name": "python3"
  },
  "language_info": {
   "codemirror_mode": {
    "name": "ipython",
    "version": 3
   },
   "file_extension": ".py",
   "mimetype": "text/x-python",
   "name": "python",
   "nbconvert_exporter": "python",
   "pygments_lexer": "ipython3",
   "version": "3.10.11"
  }
 },
 "nbformat": 4,
 "nbformat_minor": 5
}
